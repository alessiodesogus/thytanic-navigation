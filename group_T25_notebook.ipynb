{
 "cells": [
  {
   "cell_type": "markdown",
   "metadata": {},
   "source": [
    "# Basics of mobile robotics project - The Thytanic Navigation (2024)"
   ]
  },
  {
   "cell_type": "markdown",
   "metadata": {},
   "source": [
    "## 1. Introduction & Context\n",
    "\n",
    "| **Contributors**         | **Sciper**  | **Role**             | **Studies**                                                             |\n",
    "|---------------------------|-------------|-----------------------|---------------------------------------------------------------------------|\n",
    "| **Alessio Desogus**       | 301705      | Local Navigation      | Bachelor and Master in Mechanical Engineering.                            |\n",
    "|                           |             |                       |                                                                           |\n",
    "|                           |             |                       |                                                                           |\n",
    "|                           |             |                       |                                                                           |\n",
    "\n",
    "Date of deliverable: 05.12.2024  \n",
    "\n",
    "Our main sources were the exercise sessions of the course and ....\n",
    "\n",
    "### Project Description\n",
    "\n",
    "\n",
    "\n",
    "\n",
    "### Environment\n",
    "\n"
   ]
  }
 ],
 "metadata": {
  "language_info": {
   "name": "python"
  }
 },
 "nbformat": 4,
 "nbformat_minor": 2
}
