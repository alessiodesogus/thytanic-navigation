{
 "cells": [
  {
   "cell_type": "markdown",
   "metadata": {},
   "source": [
    "# Basics of mobile robotics project - The Thytanic Navigation (2024)"
   ]
  },
  {
   "cell_type": "markdown",
   "metadata": {},
   "source": [
    "## 1. Introduction & Context\n",
    "\n",
    "| **Contributors**         | **Sciper**  | **Role**             | **Studies**                                                             |\n",
    "|---------------------------|-------------|-----------------------|---------------------------------------------------------------------------|\n",
    "| **Alessio Desogus**       | 301705      | Local Navigation      | Bachelor and Master in Mechanical Engineering.                            |\n",
    "|   **Antoine Bachmann**    |  336641     | Global navigation      | Bachelor and Master in Computer Science                                   |\n",
    "|                           |             |                       |                                                                           |\n",
    "|                           |             |                       |                                                                           |\n",
    "\n",
    "Date of deliverable: 05.12.2024  \n",
    "\n",
    "Our main sources were the exercise sessions of the course and ....\n",
    "\n",
    "### Project Description\n",
    "\n",
    "\n",
    "\n",
    "\n",
    "### Environment\n",
    "\n"
   ]
  },
  {
   "cell_type": "markdown",
   "metadata": {},
   "source": [
    "## 2. Initialization"
   ]
  },
  {
   "cell_type": "code",
   "execution_count": 10,
   "metadata": {},
   "outputs": [],
   "source": [
    "from local_navigation_and_control import ThytanicController, ThytanicState"
   ]
  },
  {
   "cell_type": "code",
   "execution_count": 11,
   "metadata": {},
   "outputs": [],
   "source": [
    "# Initialize the ThytanicController\n",
    "thytanic = ThytanicController()"
   ]
  },
  {
   "cell_type": "markdown",
   "metadata": {},
   "source": [
    "## 3. Vision"
   ]
  },
  {
   "cell_type": "markdown",
   "metadata": {},
   "source": [
    "## 4. Global Navigation\n"
   ]
  },
  {
   "cell_type": "markdown",
   "metadata": {},
   "source": [
    "## 5. Kalman Filter"
   ]
  },
  {
   "cell_type": "markdown",
   "metadata": {},
   "source": [
    "## 6. Local Navigation"
   ]
  },
  {
   "cell_type": "code",
   "execution_count": null,
   "metadata": {},
   "outputs": [
    {
     "name": "stdout",
     "output_type": "stream",
     "text": [
      "Connecting to Thymio...\n",
      "Connection established!\n",
      "Robot state set to GLOBAL_MOVEMENT.\n",
      "\n",
      "Stopping the robot...\n",
      "Robot stopped and disconnected.\n",
      "Session ended.\n"
     ]
    }
   ],
   "source": [
    "# Establish a connection to the Thytanic\n",
    "try:\n",
    "    print(\"Connecting to Thytanic...\")\n",
    "    thytanic.establish_connection()\n",
    "    print(\"Connection established!\")\n",
    "\n",
    "    # Set the robot to GLOBAL_MOVEMENT state\n",
    "    thytanic.robot_state = ThytanicState.GLOBAL_MOVEMENT\n",
    "    thytanic.set_wheel_speed(100,100)\n",
    "    print(\"Thytanic state set to GLOBAL_MOVEMENT.\")\n",
    "\n",
    "    # Start the robot movement loop\n",
    "    while True:\n",
    "        thytanic.update_robot_state()\n",
    "\n",
    "except KeyboardInterrupt:\n",
    "    # Handle interruption and stop the robot safely\n",
    "    print(\"\\nStopping the Thytanic...\")\n",
    "    thytanic.disconnect()\n",
    "    print(\"Thytanic stopped and disconnected.\")\n",
    "\n",
    "finally:\n",
    "    print(\"Session ended.\")"
   ]
  },
  {
   "cell_type": "markdown",
   "metadata": {},
   "source": [
    "## 7. Main Loop"
   ]
  },
  {
   "cell_type": "markdown",
   "metadata": {},
   "source": [
    "## 8. Stopping"
   ]
  },
  {
   "cell_type": "markdown",
   "metadata": {},
   "source": [
    "## 9. Conclusion"
   ]
  }
 ],
 "metadata": {
  "kernelspec": {
   "display_name": "thymio",
   "language": "python",
   "name": "python3"
  },
  "language_info": {
   "codemirror_mode": {
    "name": "ipython",
    "version": 3
   },
   "file_extension": ".py",
   "mimetype": "text/x-python",
   "name": "python",
   "nbconvert_exporter": "python",
   "pygments_lexer": "ipython3",
   "version": "3.11.10"
  }
 },
 "nbformat": 4,
 "nbformat_minor": 4
}
