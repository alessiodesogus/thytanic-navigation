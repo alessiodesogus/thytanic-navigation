{
 "cells": [
  {
   "cell_type": "markdown",
   "metadata": {},
   "source": [
    "# Basics of mobile robotics project - The Thytanic Navigation (2024)"
   ]
  },
  {
   "cell_type": "markdown",
   "metadata": {},
   "source": [
    "## 1. Introduction & Context\n",
    "\n",
    "| **Contributors**         | **Sciper**  | **Role**             | **Studies**                                                                   |\n",
    "|---------------------------|-------------|-----------------------|---------------------------------------------------------------------------  |\n",
    "| **Alessio Desogus**       | 301705      | `Local Navigation`      | Bachelor and Master in Mechanical Engineering                              |\n",
    "|   **Antoine Bachmann**    |  336641     | `Global navigation`      | Bachelor and Master in Computer Science                                   |\n",
    "|**Ramon Heeb**             |   396213    | `Vision`                | Bachelor in Computer Science, Master in Robotics                           |\n",
    "| **Adélaïde Pinel**        |330753       |  `Kalman Filtering`                     |  Bachelor and Master in Mechanical Engineering             |\n",
    "\n",
    "Date of deliverable: 05.12.2024  \n",
    "\n",
    "Our main sources were: \n",
    "- .\n",
    "- .\n",
    "\n",
    "### Project Description\n",
    "\n",
    "This project involves guiding the **Thytanic** from its starting position to its destination in an efficient manner using `Global Navigation`. Along the way, the Thytanic must avoid appearing obstacles by employing `Local Navigation`. Additionally, the position of the Thytanic is estimated using a `Kalman Filter`. Finally, a stationary camera is positioned above the map to provide `Vision` information for the system’s navigation modules.\n",
    "\n",
    "Imagine the following scenario: the Thytanic is navigating in the vast ocean (**blue background**) and is seeking to reach land (**white area**) safely while avoiding dangerous icebergs (**local obstacles**). At the same time, it must avoid colliding with **black zones** representing dangerous land masses. Its goal is to navigate the shortest, most energy-efficient route to safety.\n"
   ]
  },
  {
   "cell_type": "markdown",
   "metadata": {},
   "source": [
    "![Local Navigation Algorithm](img/thytanic.png)"
   ]
  },
  {
   "cell_type": "markdown",
   "metadata": {},
   "source": [
    "- Image reference background: https://www.freepik.com/premium-ai-image/iceberg-water-with-icebergs-background_55113664.htm\n",
    "- Image reference thymio: https://edu.ge.ch/site/desrobotsenclasse/wp-content/uploads/sites/269/2015/02/front.jpg\n"
   ]
  },
  {
   "cell_type": "markdown",
   "metadata": {},
   "source": [
    "## 2. Initialization"
   ]
  },
  {
   "cell_type": "markdown",
   "metadata": {},
   "source": [
    "We start by importing the necessary modules, functions and basic libraries:  \n",
    "- `local_navigation_and_control_all` for the local navigation and overall control of the Thytanic  \n",
    "- `vision` for computer vision functions  \n",
    "- `global_navigation` for global path planning functions  \n",
    "- `kalman_filtering_all` for Kalman filter functions"
   ]
  },
  {
   "cell_type": "code",
   "execution_count": 19,
   "metadata": {
    "execution": {
     "iopub.execute_input": "2024-11-24T15:44:37.282218Z",
     "iopub.status.busy": "2024-11-24T15:44:37.282218Z",
     "iopub.status.idle": "2024-11-24T15:44:53.265472Z",
     "shell.execute_reply": "2024-11-24T15:44:53.265472Z",
     "shell.execute_reply.started": "2024-11-24T15:44:37.282218Z"
    }
   },
   "outputs": [],
   "source": [
    "from local_navigation_and_control import ThytanicController, ThytanicState\n",
    "from vision import get_current_state, init_cam\n",
    "from global_navigation import downsamplingprep, downsampling, pathfinder\n",
    "from kalman_filtering import kalman_filter\n",
    "import numpy as np\n",
    "import matplotlib.pyplot as plt\n",
    "from IPython.display import display, clear_output\n",
    "import time"
   ]
  },
  {
   "cell_type": "markdown",
   "metadata": {},
   "source": [
    "Next, we initialize the `ThytanicController`: "
   ]
  },
  {
   "cell_type": "code",
   "execution_count": 20,
   "metadata": {
    "execution": {
     "iopub.execute_input": "2024-11-24T15:44:53.267472Z",
     "iopub.status.busy": "2024-11-24T15:44:53.266472Z",
     "iopub.status.idle": "2024-11-24T15:44:53.269992Z",
     "shell.execute_reply": "2024-11-24T15:44:53.269992Z",
     "shell.execute_reply.started": "2024-11-24T15:44:53.267472Z"
    }
   },
   "outputs": [],
   "source": [
    "thytanic = ThytanicController()"
   ]
  },
  {
   "cell_type": "markdown",
   "metadata": {},
   "source": [
    "## 3. Vision"
   ]
  },
  {
   "cell_type": "markdown",
   "metadata": {},
   "source": [
    "For Vision we chose to adapt the strategy of color based thresholding to create the map of our environment and get the position and orientation of the thymio. \n",
    "For the thresholding you can see the allowed ranges of values for obstacles, targets, and the front and back of the thymio in the HSV color space. It is important that all objects have at least one value where the range is completely distinct from all the other objects. This allows for an unambiguous assignemnt of a pixel to an object.  \n",
    "\n",
    "After that *the get_current_state* function is called. It returns a 2d numpy array that contains numbers indicating the object that each pixel belongs to. Additionally the position of the thymio in this pixel matrix and its orientation is returned.\n",
    "The function works in the following way:\n",
    "\n",
    "- First a picture is taken by the supplied camera. The camera can be obtained by the *init_cam* function. For taking the picture and all of the following operations the library opencv is used.\n",
    "\n",
    "- When we have obtained the image we scale it down in order to reduce the computation time of the subsequent operations. The *pyrDown* from opencv is used to achieve this. The function works by combining the values of 4 adjacent pixels and merging them into one pixel in the scaled down image. Applying this function twice results in a new image of size 160 to 120. Going any lower produced unsatisfactory results in the orientation estimation of the Thymio as not enough pixels were available for an accurate result. Documentation of the function can be found here: https://docs.opencv.org/4.x/d4/d1f/tutorial_pyramids.html\n",
    "\n",
    "- Next, the image is transformed to the HSV color space. The HSV space is more robust to lighting changes then the RGB color space. In the RGB color space changes in brightness result in changes for all 3 values. In HSV a brightness changes ideally only affects the V value. This in turn allows for an easier color separation even under different lighting conditions. In fact we used RGB in a previous iteration of this algorithm and never achieved a stable object segmentation with it. To learn about the HSV color space, the following page was really helpful: https://ch.mathworks.com/help/images/understanding-color-spaces-and-color-space-conversion.html\n",
    "\n",
    "- Then the actual thresholding is performed. We check for each pixel in the image, if all of its h, s and v values lie in one of the hsv ranges provided as arguments. If they do, we know that the object that the range corresponds to must be located at the location of that pixel.  \n",
    "    "
   ]
  },
  {
   "cell_type": "code",
   "execution_count": null,
   "metadata": {
    "execution": {
     "iopub.execute_input": "2024-11-24T15:44:53.271990Z",
     "iopub.status.busy": "2024-11-24T15:44:53.270989Z",
     "iopub.status.idle": "2024-11-24T15:45:02.122968Z",
     "shell.execute_reply": "2024-11-24T15:45:02.122968Z",
     "shell.execute_reply.started": "2024-11-24T15:44:53.271990Z"
    }
   },
   "outputs": [],
   "source": [
    "#create a 4-channel map of the environment\n",
    "cam = init_cam()\n",
    "obstacle_range=[np.array([0, 130, 0]), np.array([160, 240, 140])]\n",
    "target_range=[np.array([0, 30, 235]), np.array([255, 130, 256])]\n",
    "th_front_range=[np.array([0, 160, 253]), np.array([15, 250, 256])]\n",
    "th_back_range=[np.array([16, 130, 141]), np.array([40, 250, 252])]\n",
    "img, _, _ = get_current_state(\n",
    "    cam=cam,\n",
    "    obstacle_range=obstacle_range,\n",
    "    target_range=target_range,\n",
    "    th_front_range=th_front_range,\n",
    "    th_back_range=th_back_range,\n",
    ")"
   ]
  },
  {
   "cell_type": "markdown",
   "metadata": {},
   "source": [
    "## 4. Global Navigation\n"
   ]
  },
  {
   "cell_type": "markdown",
   "metadata": {},
   "source": [
    "For global navigation, we have two distinct phases: image postprocessing and pathfinding.\n",
    "\n",
    "The first turns the already cleaned and processed image into an obstacle position binary 2d array, a thymio position, and an objective position.\n",
    "\n",
    "This is done using significant downsampling, as the thymio has limited precision in its movements and as such very small pixels would not bring significant utility while making all processing operations much more expensive.\n",
    "\n",
    "- The 2d array is binary and only features obstacles and free spaces, this is for ease of morphological operations, as the other two data points can be summed up to a single point which is easier to keep out of array for programming purposes, especially testing.\n",
    "\n",
    "- The thymio position on the image, and thus its equivalent in the output array uses the thimyo's pixels average position, this is due to ease of implementation and practical functionality, more complex solutions were not needed, so we went no further.\n",
    "  \n",
    "- The goal position is as the thymio position.\n",
    "\n",
    "\n",
    "The 2d array is then dilated morphologically and its pixels fused to reach the desired size, the threshold parameter determines what minimum proportion of a superpixel should contain obstacles for the superpixel to have a value of 1."
   ]
  },
  {
   "cell_type": "markdown",
   "metadata": {},
   "source": [
    "Pathfinding is conceptually very simple, thanks to the limited size of our 2darray, dijkstra becomes computationally viable. As our system has no cul-de-sacs or significant detours, euclidean distance from the objective is an excellent heuristic which allows us to implement an [A*](https://dl.acm.org/doi/10.1145/3828.3830) algorithm that provides a very significant improvement in computation time.\n",
    "\n",
    "Here we used the square of the euclidean distance once again for computational reasons, this gave extreme weight to the heuristic compared to the path length but as long as the obstacles remain cul-de-sac free this is a massive computational gain over djikstra.\n",
    "\n"
   ]
  },
  {
   "cell_type": "code",
   "execution_count": null,
   "metadata": {
    "execution": {
     "iopub.execute_input": "2024-11-24T15:45:02.123964Z",
     "iopub.status.busy": "2024-11-24T15:45:02.123964Z",
     "iopub.status.idle": "2024-11-24T15:45:02.312455Z",
     "shell.execute_reply": "2024-11-24T15:45:02.312455Z",
     "shell.execute_reply.started": "2024-11-24T15:45:02.123964Z"
    }
   },
   "outputs": [
    {
     "data": {
      "text/plain": [
       "[]"
      ]
     },
     "execution_count": 22,
     "metadata": {},
     "output_type": "execute_result"
    },
    {
     "data": {
      "image/png": "[encoded data removed]",
      "text/plain": [
       "<Figure size 640x480 with 1 Axes>"
      ]
     },
     "metadata": {},
     "output_type": "display_data"
    }
   ],
   "source": [
    "endsize = [120, 160]\n",
    "\n",
    "#this line generates the original enposition, thymio position, and the obstacle channel\n",
    "thymiopos, endpos, obstacleimage = downsamplingprep(img, endsize, 1, 1)\n",
    "\n",
    "#this line turns obstacleimage into its downsampled version with enlarged obstacles\n",
    "preppedimage = downsampling(obstacleimage, endsize, 24, 0.2)\n",
    "\n",
    "\n",
    "plt.imshow(preppedimage)\n",
    "plt.plot()"
   ]
  },
  {
   "cell_type": "markdown",
   "metadata": {},
   "source": [
    "The three addition lines are here for some data visualization, the colours let us see what nodes were taken as path points, explored, and unexplored but considered by the algorithm."
   ]
  },
  {
   "cell_type": "code",
   "execution_count": 23,
   "metadata": {
    "execution": {
     "iopub.execute_input": "2024-11-24T15:45:02.313450Z",
     "iopub.status.busy": "2024-11-24T15:45:02.313450Z",
     "iopub.status.idle": "2024-11-24T15:45:02.920462Z",
     "shell.execute_reply": "2024-11-24T15:45:02.920462Z",
     "shell.execute_reply.started": "2024-11-24T15:45:02.313450Z"
    }
   },
   "outputs": [
    {
     "data": {
      "text/plain": [
       "[]"
      ]
     },
     "execution_count": 23,
     "metadata": {},
     "output_type": "execute_result"
    },
    {
     "data": {
      "image/png": "[encoded data removed]",
      "text/plain": [
       "<Figure size 640x480 with 1 Axes>"
      ]
     },
     "metadata": {},
     "output_type": "display_data"
    }
   ],
   "source": [
    "path, exploredpoints, unexploredpoints = pathfinder(thymiopos, endpos, preppedimage)\n",
    "\n",
    "testimage = preppedimage.copy()\n",
    "\n",
    "for k in path:\n",
    "    testimage[k[0], k[1]] += 2\n",
    "    \n",
    "for k in exploredpoints:\n",
    "    testimage[k[0], k[1]] += 3\n",
    "\n",
    "for k in unexploredpoints:\n",
    "    testimage[k[0], k[1]] += 4\n",
    "\n",
    "\n",
    "plt.imshow(testimage)\n",
    "plt.plot()"
   ]
  },
  {
   "cell_type": "markdown",
   "metadata": {},
   "source": [
    "## 5. Kalman Filter"
   ]
  },
  {
   "cell_type": "markdown",
   "metadata": {},
   "source": [
    "The Kalman filter function is implemented in **`kalman_filtering.py`**, following the steps outlined in the lecture slides of **Lecture 8** in the course *Basics of Mobile Robotics* by Pr. Mondada. \n",
    "\n",
    "We used the Kalman filter to estimate the position of the robot, assuming the noise covariance is Gaussian. This method \"fuses\" the information from the sensors in a way that minimizes the error covariance during computation.\n",
    "\n",
    "\n",
    "### System Dynamics\n",
    "\n",
    "Our system dynamics are modeled as:\n",
    "\n",
    "1. **State evolution**:\n",
    "   $$\n",
    "   x^+ = Ax + w\n",
    "   $$\n",
    "\n",
    "2. **Measurement equation**:\n",
    "   $$\n",
    "   y = Cx + v\n",
    "   $$\n",
    "\n",
    "Where:  \n",
    "- The state vector is defined as:  \n",
    "  $$\n",
    "  x = [x_{\\text{pos}}, v_x, y_{\\text{pos}}, v_y, \\theta, \\omega]^T\n",
    "  $$\n",
    "- $ w $ is the stochastic state perturbation, with a covariance matrix $ Q $:  \n",
    "$$\n",
    "Q = \n",
    "\\begin{bmatrix}\n",
    "\\text{var}_x & 0 & 0 & 0 & 0 & 0 \\\\\n",
    "0 & \\text{var}_\\text{vel} & 0 & 0 & 0 & 0 \\\\\n",
    "0 & 0 & \\text{var}_y & 0 & 0 & 0 \\\\\n",
    "0 & 0 & 0 & \\text{var}_\\text{vel} & 0 & 0 \\\\\n",
    "0 & 0 & 0 & 0 & \\text{var}_\\text{angle} & 0 \\\\\n",
    "0 & 0 & 0 & 0 & 0 & \\text{var}_\\text{vel}\n",
    "\\end{bmatrix}\n",
    "$$\n",
    "\n",
    "\n",
    "For the measurement equation, we need to distinguish between two seperate cases. \n",
    "- In case the camera is available, $v$ is the measurement noise of both the camera position and orientation estimations and the wheel velocities measurements with covariance matrix $R_{\\text{camera}}$ :\n",
    "\n",
    "$$\n",
    "R_{\\text{camera}} =\n",
    "\\begin{bmatrix}\n",
    "\\text{var}_{x,\\text{meas}} & 0 & 0 & 0 & 0 & 0 \\\\\n",
    "0 & \\text{var}_{\\text{vel,meas}} + \\text{var}_{\\text{angle,meas}} & 0 & 0 & 0 & 0 \\\\\n",
    "0 & 0 & \\text{var}_{y,\\text{meas}} & 0 & 0 & 0 \\\\\n",
    "0 & 0 & 0 & \\text{var}_{\\text{vel,meas}} + \\text{var}_{\\text{angle,meas}} & 0 & 0 \\\\\n",
    "0 & 0 & 0 & 0 & \\text{var}_{\\text{angle,meas}} & 0 \\\\\n",
    "0 & 0 & 0 & 0 & 0 & \\text{var}_{\\text{vel,meas}}\n",
    "\\end{bmatrix}\n",
    "$$\n",
    "and C is the identity matrix such that all the states are measurable outputs. \n",
    "\n",
    "\n",
    "- If the camera is not detected, the number of outputs measurements is reduced to the velocities of the wheels and the state to output matrix is reduced to:\n",
    "$$\n",
    "C =\n",
    "\\begin{bmatrix}\n",
    "0 & 1 & 0 & 0 & 0 & 0 \\\\\n",
    "0 & 0 & 0 & 1 & 0 & 0 \\\\\n",
    "0 & 0 & 0 & 0 & 0 & 1\n",
    "\\end{bmatrix}\n",
    "$$\n",
    "as well as the covariance matrix of the measurements noise that becomes :\n",
    "$$\n",
    "R_{\\text{blind}} =\n",
    "\\begin{bmatrix}\n",
    "\\text{var}_{\\text{vel,meas}} & 0 & 0 \\\\\n",
    "0 & \\text{var}_{\\text{vel,meas}} & 0 \\\\\n",
    "0 & 0 & \\text{var}_{\\text{vel,meas}}\n",
    "\\end{bmatrix}\n",
    "$$\n",
    "\n",
    "\n",
    "The values of the variances are calculated in **camera_variance_calc.py** by taking several frames of the camera and calculating the variances for $x$, $y$ and $\\theta$ measurements. The variance of the velocity was computed in **velocity_variance.ipynb**.\n",
    "\n"
   ]
  },
  {
   "cell_type": "markdown",
   "metadata": {},
   "source": [
    "## 6. Local Navigation"
   ]
  },
  {
   "cell_type": "markdown",
   "metadata": {},
   "source": [
    "For the local navigation of the Thytanic, we implemented a state machine with 3 distinct states:  \n",
    "- `GLOBAL_MOVEMENT`  \n",
    "- `AVOIDING_OBSTACLE`  \n",
    "- `STOP`  \n",
    "\n",
    "The navigation begins in the `GLOBAL_MOVEMENT` state, where the Thytanic follows the optimal path provided. The controller used to follow this path is inspired by the **Astolfi controller** (from Journal of Dynamic Systems, Measurement and Control, Transactions of the ASME, volume 121, issue 1, pages 121-126, 1999, Exponential Stabilization of a Wheeled Mobile Robot Via Discontinuous Control). It works as follows:\n",
    "\n",
    "1. **Calculate the radial distance to the goal**:\n",
    "\n",
    "   $$\n",
    "   \\rho = \\sqrt{\\Delta x^2 + \\Delta y^2}\n",
    "   $$\n",
    "\n",
    "   with:\n",
    "\n",
    "   $$\n",
    "   \\Delta x = x_{\\text{goal}} - x_{\\text{estimated}} \\quad \\text{and} \\quad \\Delta y = y_{\\text{goal}} - y_{\\text{estimated}}\n",
    "   $$\n",
    "\n",
    "2. **Compute the angle corresponding to the orientation error** between the robot and the goal:\n",
    "\n",
    "   $$\n",
    "   \\alpha = -\\theta_{\\text{estimated}} + \\text{atan2}(-\\Delta y, \\Delta x)\n",
    "   $$\n",
    "The minus before $\\Delta y$ comes from the y axis pointing down.\n",
    "\n",
    "3. **Set the velocities** according to $\\rho$ and $\\alpha$, such that:\n",
    "   - If the robot is far from the goal point and well-oriented, it moves faster, without overshooting.\n",
    "   - If the robot is close to the goal, it slows down to make more precise turns.\n",
    "\n",
    "   The velocity equations are as follows:\n",
    "\n",
    "   $$\n",
    "   v_{\\text{linear}} = k_\\rho \\cdot \\ln(\\rho)\n",
    "   $$\n",
    "\n",
    "   $$\n",
    "   \\omega = \\dot{\\theta} = k_\\alpha \\cdot \\alpha\n",
    "   $$\n",
    "\n",
    "4. **Convert the linear and angular velocities** to the velocities for the left and right wheels of the robot.\n",
    "\n",
    "5. **Check the proximity to the goal**:\n",
    "   - If the robot is close enough to the goal point (less than $\\text{min\\_distance}$), move to the next target point on the path.\n",
    "   - Otherwise, continue tracking the current goal point.\n",
    "\n",
    "\n",
    "When a proximity sensor (*prox.horizontal*) detects an obstacle based on a pre-defined threshold, the Thytanic transitions to the `AVOIDING_OBSTACLE` state. In this state, it initiates avoidance maneuvers by turning to navigate around the obstacle. \n",
    "\n",
    "Once the sensors no longer detect any obstacles, the Thytanic moves straight for 3 seconds to create distance from the obstacle. It then updates the next point on the optimal path by skipping ahead two steps to ensure efficiency and prevent revisiting the same obstacle. After completing these maneuvers, the Thytanic transitions back to the `GLOBAL_MOVEMENT` state, following its journey along the optimal path. The `STOP` state is triggered when the Thytanic reaches its goal, at which point it halts completely, stopping all motors.  "
   ]
  },
  {
   "cell_type": "markdown",
   "metadata": {},
   "source": [
    "![Local Navigation Algorithm](img/local_navigation.png)"
   ]
  },
  {
   "cell_type": "markdown",
   "metadata": {},
   "source": [
    "Reguarding the **kidnapping scenario**, which simulates the thymio being lifted and placed elsewhere, the event is detected using the accelerometer by identifying an unexpected force in the z-axis. Upon detection, the Thytanic immediately stops its movement, sets its wheel speeds to zero, and waits for 10 seconds to stabilize before recalibrating. During this recalibration, the robot re-evaluates its position using the camera which captures the surrounding environment. Based on this new information, a new optimal path is calculated from the updated position to the target. Once the new path is successfully computed, the Thytanic's state is switched back to `GLOBAL_MOVEMENT`. "
   ]
  },
  {
   "cell_type": "markdown",
   "metadata": {},
   "source": [
    "![Kidnapping Scenario](img/kidnapping_scenario.png)"
   ]
  },
  {
   "cell_type": "markdown",
   "metadata": {},
   "source": [
    "- The mermaid charts were done using the following website: https://www.mermaidchart.com"
   ]
  },
  {
   "cell_type": "markdown",
   "metadata": {},
   "source": [
    "## 7. Main Loop"
   ]
  },
  {
   "cell_type": "code",
   "execution_count": 18,
   "metadata": {},
   "outputs": [
    {
     "name": "stdout",
     "output_type": "stream",
     "text": [
      "Goal reached!\n",
      "Session ended.\n"
     ]
    },
    {
     "data": {
      "image/png": "[encoded data removed]",
      "text/plain": [
       "<Figure size 640x480 with 1 Axes>"
      ]
     },
     "metadata": {},
     "output_type": "display_data"
    }
   ],
   "source": [
    "#https://medium.com/@shahinrostami/jupyter-notebook-and-updating-plots-f1ec4cdc354b\n",
    "fig = plt.figure()\n",
    "ax = fig.add_subplot(111)\n",
    "\n",
    "# Main script to establish connection and start movement\n",
    "try:\n",
    "    print(\"Connecting to Thytanic...\")\n",
    "    thytanic.establish_connection()\n",
    "    print(\"Connection established!\")\n",
    "    # Get the initial states of the robot from camera, with no velocity\n",
    "    _, thymiopos, initial_angle = get_current_state(    cam=cam,\n",
    "    obstacle_range=[np.array([0, 150, 25]), np.array([30, 220, 100])],\n",
    "    target_range=[np.array([0, 30, 235]), np.array([255, 130, 256])],\n",
    "    th_front_range=[np.array([0, 160, 250]), np.array([15, 250, 256])],\n",
    "    th_back_range=[np.array([16, 130, 150]), np.array([35, 250, 249])],)\n",
    "    \n",
    "    # Set the robot to GLOBAL_MOVEMENT state to follow the path\n",
    "    thytanic.robot_state = ThytanicState.GLOBAL_MOVEMENT\n",
    "    print(\"Thytanic state set to GLOBAL_MOVEMENT.\")\n",
    "    print(\"initital_angle:\", initial_angle)\n",
    "    thytanic.x_est = np.array([thymiopos[1], 0, thymiopos[0], 0,initial_angle,0]) #position, velocity (x,y,angle)\n",
    "    thytanic.P_est = np.eye(6) # initialized with large variance values but it doesn't have a big impact since P_est converges quickly to a finite value independent of the initial value\n",
    "    thytanic.goal_idx = 0 # target the first point of path\n",
    "    x_estimated = [] # to store the values of estimated positions\n",
    "    \n",
    "    # Downsample the path to reduce the number of points (1/5 points)\n",
    "    path = path[::5]\n",
    "    path = path[2:] #skip the first point to avoid the current position\n",
    "    # Flip the x and y coordinates\n",
    "    path = np.array([[p[1], p[0]] for p in path])\n",
    "\n",
    "    # Start the robot movement loop\n",
    "    while True:\n",
    "        acc = thytanic.read_accelerometer()\n",
    "        if(acc[2] > 28):    # usually around 20 because of gravity, when kidnapped it increases (a large threshold is used to avoid false positives from when the robot is turning)\n",
    "            thytanic.set_wheel_speed(0, 0)\n",
    "            time.sleep(10)\n",
    "            #Recomputing new position and path\n",
    "            img, thymiopos, initital_angle = get_current_state(cam=cam,\n",
    "                obstacle_range=obstacle_range,\n",
    "                target_range=target_range,\n",
    "                th_front_range=th_front_range,\n",
    "                th_back_range=th_back_range,\n",
    "            )\n",
    "            endsize = [120, 160]\n",
    "\n",
    "            #this line generates the original enposition, thymio position, and the obstacle channel\n",
    "            thymiopos, endpos, obstacleimage = downsamplingprep(img, endsize, 1, 1)\n",
    "\n",
    "            #this line turns obstacleimage into its downsampled version with enlarged obstacles\n",
    "            preppedimage = downsampling(obstacleimage, endsize, 25, 0.2)\n",
    "            path, exploredpoints, unexploredpoints = pathfinder(thymiopos, endpos, preppedimage)  \n",
    "\n",
    "            # Set the robot to GLOBAL_MOVEMENT state\n",
    "            #print(\"initital_angle:\", initital_angle)\n",
    "            thytanic.x_est = np.array([thymiopos[1], 0, thymiopos[0], 0,initital_angle,0]) #position, velocity (x,y,angle)\n",
    "            thytanic.P_est = np.eye(6)\n",
    "            thytanic.goal_idx = 0\n",
    "            thytanic.robot_state = ThytanicState.GLOBAL_MOVEMENT\n",
    "            x_estimated = [] # initialize again\n",
    "\n",
    "            #new path\n",
    "            path = path[::5]\n",
    "            path = path[2:]\n",
    "            path = np.array([[p[1], p[0]] for p in path])  \n",
    "            \n",
    "        # get measured position and orientation from camera\n",
    "        _, thymiopos, orientation = get_current_state(    cam=cam,\n",
    "            obstacle_range=obstacle_range,\n",
    "            target_range=target_range,\n",
    "            th_front_range=th_front_range,\n",
    "            th_back_range=th_back_range,\n",
    "        )\n",
    "        # apply kalman filter and get the estimated positions thytanic.x_est\n",
    "        kalman_filter(thytanic, [thymiopos[1], thymiopos[0], orientation])\n",
    "        x_estimated.append(thytanic.x_est)\n",
    "        thytanic.goal = path[thytanic.goal_idx] # get the (x,y) coordinates of the goal point\n",
    "        thytanic.update_robot_state()\n",
    "\n",
    "        # Print the proximity sensor values\n",
    "        sensor_values = thytanic.read_proximity_sensors()\n",
    "        \n",
    "        ax.cla()\n",
    "        ax.plot(path[:,0], path[:,1], label='path')\n",
    "        ax.plot(np.array(x_estimated)[:,0], np.array(x_estimated)[:,2], label='estimated position')\n",
    "        # Plot the path\n",
    "        ax.legend()\n",
    "        ax.set_xlabel('x in pixels')\n",
    "        ax.set_ylabel('y in pixels')\n",
    "        display(fig)\n",
    "        clear_output(wait=True)\n",
    "        \n",
    "        if thytanic.goal_idx >= len(path +1): # if the goal reached the last point of the path it stops\n",
    "            thytanic.robot_state = ThytanicState.STOP\n",
    "            thytanic.update_robot_state()\n",
    "            print(\"Goal reached!\")\n",
    "            break \n",
    "\n",
    "except KeyboardInterrupt:\n",
    "    # Handle interruption and stop the robot safely\n",
    "    print(\"\\nStopping the Thytanic...\")\n",
    "    thytanic.disconnect()\n",
    "    print(\"Thytanic stopped and disconnected.\")\n",
    "\n",
    "finally:\n",
    "    print(\"Session ended.\")\n",
    "    thytanic.disconnect()"
   ]
  },
  {
   "cell_type": "markdown",
   "metadata": {},
   "source": [
    "## 9. Conclusion"
   ]
  }
 ],
 "metadata": {
  "kernelspec": {
   "display_name": "mob_rob",
   "language": "python",
   "name": "python3"
  },
  "language_info": {
   "codemirror_mode": {
    "name": "ipython",
    "version": 3
   },
   "file_extension": ".py",
   "mimetype": "text/x-python",
   "name": "python",
   "nbconvert_exporter": "python",
   "pygments_lexer": "ipython3",
   "version": "3.12.5"
  }
 },
 "nbformat": 4,
 "nbformat_minor": 4
}
