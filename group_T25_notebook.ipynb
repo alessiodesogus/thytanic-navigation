{
 "cells": [
  {
   "cell_type": "markdown",
   "metadata": {},
   "source": [
    "# Basics of mobile robotics project - The Thytanic Navigation (2024)"
   ]
  },
  {
   "cell_type": "markdown",
   "metadata": {},
   "source": [
    "## 1. Introduction & Context\n",
    "\n",
    "| **Contributors**         | **Sciper**  | **Role**             | **Studies**                                                             |\n",
    "|---------------------------|-------------|-----------------------|---------------------------------------------------------------------------|\n",
    "| **Alessio Desogus**       | 301705      | Local Navigation      | Bachelor and Master in Mechanical Engineering.                            |\n",
    "|                           |             |                       |                                                                           |\n",
    "|                           |             |                       |                                                                           |\n",
    "|                           |             |                       |                                                                           |\n",
    "\n",
    "Date of deliverable: 05.12.2024  \n",
    "\n",
    "Our main sources were the exercise sessions of the course and ....\n",
    "\n",
    "### Project Description\n",
    "\n",
    "\n",
    "\n",
    "\n",
    "### Environment\n",
    "\n"
   ]
  },
  {
   "cell_type": "code",
   "execution_count": null,
   "metadata": {},
   "outputs": [],
   "source": [
    "import cv2 as cv\n",
    "\n",
    "from vision import Camera, get_arena\n",
    "from controlling_thymio import ManipulatingThymio, State\n",
    "from global_path import optimal_path, generate_points_on_path\n",
    "from kalman import kalman_filter, Q"
   ]
  }
 ],
 "metadata": {
  "kernelspec": {
   "display_name": "thymio",
   "language": "python",
   "name": "python3"
  },
  "language_info": {
   "name": "python",
   "version": "3.11.10"
  }
 },
 "nbformat": 4,
 "nbformat_minor": 2
}
